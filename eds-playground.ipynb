{
 "cells": [
  {
   "attachments": {},
   "cell_type": "markdown",
   "metadata": {},
   "source": [
    "Notebook to try code for the app.."
   ]
  },
  {
   "attachments": {},
   "cell_type": "markdown",
   "metadata": {},
   "source": [
    "### Imports, constants, settings"
   ]
  },
  {
   "cell_type": "code",
   "execution_count": null,
   "metadata": {},
   "outputs": [],
   "source": [
    "import os\n",
    "import matplotlib\n",
    "import matplotlib.pyplot as plt\n",
    "import numpy as np\n",
    "import pandas as pd\n",
    "%matplotlib inline\n"
   ]
  },
  {
   "attachments": {},
   "cell_type": "markdown",
   "metadata": {},
   "source": [
    "The set of sensor locations - `LOCATIONS` - is kind of stable, no need to run `getLocations` every time we read new values.  "
   ]
  },
  {
   "cell_type": "code",
   "execution_count": 1,
   "metadata": {},
   "outputs": [],
   "source": [
    "\n",
    "def getLocations():\n",
    "    import requests as request\n",
    "    res = request.get(\"https://api.dustmonitoring.nl/v1/project(30)/locations\")\n",
    "    data = res.json()\n",
    "    locations = []\n",
    "    for item in data['value']:\n",
    "        locations.append(item['ID'])\n",
    "    return locations\n",
    "\n",
    "# LOCATION_IDS = getLocations()\n",
    "LOCATION_IDS = [531, 521, 542, 543, 553, 544, 545, 532, 533, 554, 534, 535, 546, 536, 556, 522, 557, 547, 549, 524, 537, 525, 526, 539, 551, 540, 558, 527, 528, 529, 530, 560, 561, 562, 563, 564, 565, 566, 567, 568, 569, 570, 571, 572, 573, 574, 575, 576, 577]\n"
   ]
  },
  {
   "attachments": {},
   "cell_type": "markdown",
   "metadata": {},
   "source": [
    "### Daily: Air quality news\n",
    "- Worst and best air today "
   ]
  },
  {
   "cell_type": "code",
   "execution_count": null,
   "metadata": {},
   "outputs": [],
   "source": [
    "def getLocationToday(loc_id):\n",
    "    request_string = \"https://api.dustmonitoring.nl/v1/project(30)/location(\" \\\n",
    "            + str(loc_id) + \")/stream?$filter=timestamp eq \" ##TODO vandaag toevoegen in dit format: 2023-03-09\n",
    "    "
   ]
  },
  {
   "attachments": {},
   "cell_type": "markdown",
   "metadata": {},
   "source": [
    "### Daily: Endangered species challenge\n",
    "- Exactly last year ago, these endangered species were observed in/around Eindhoven: \n",
    ".... (or maybe show just one)\n",
    "- Source: waarneming.nl or gbif.nl\n",
    "- Filter on gemeente Eindhoven ; zeer zeldzaam of >= zeldzaam ; approved images\n",
    "- include source, link to the selected observation\n",
    "- Challenge: find them again today, add them to iObs\n",
    "\n"
   ]
  },
  {
   "cell_type": "code",
   "execution_count": 2,
   "metadata": {},
   "outputs": [],
   "source": [
    "# https://waarneming.nl/observation/235848374/"
   ]
  },
  {
   "cell_type": "code",
   "execution_count": null,
   "metadata": {},
   "outputs": [],
   "source": []
  }
 ],
 "metadata": {
  "kernelspec": {
   "display_name": "viz-streamlit",
   "language": "python",
   "name": "python3"
  },
  "language_info": {
   "codemirror_mode": {
    "name": "ipython",
    "version": 3
   },
   "file_extension": ".py",
   "mimetype": "text/x-python",
   "name": "python",
   "nbconvert_exporter": "python",
   "pygments_lexer": "ipython3",
   "version": "3.8.15"
  },
  "orig_nbformat": 4
 },
 "nbformat": 4,
 "nbformat_minor": 2
}
